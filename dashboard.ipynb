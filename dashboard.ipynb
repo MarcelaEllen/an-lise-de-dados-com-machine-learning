{
 "cells": [
  {
   "cell_type": "code",
   "execution_count": 2,
   "metadata": {},
   "outputs": [
    {
     "data": {
      "text/html": [
       "\n",
       "        <iframe\n",
       "            width=\"100%\"\n",
       "            height=\"650\"\n",
       "            src=\"http://127.0.0.1:8050/\"\n",
       "            frameborder=\"0\"\n",
       "            allowfullscreen\n",
       "            \n",
       "        ></iframe>\n",
       "        "
      ],
      "text/plain": [
       "<IPython.lib.display.IFrame at 0x1e8b826a8d0>"
      ]
     },
     "metadata": {},
     "output_type": "display_data"
    }
   ],
   "source": [
    "import pandas as pd\n",
    "import folium\n",
    "import dash\n",
    "from dash import dcc, html\n",
    "from dash.dependencies import Input, Output\n",
    "import plotly.express as px\n",
    "\n",
    "# Carregar o conjunto de dados\n",
    "tabela = pd.read_csv(\"dataSet.csv\", sep=';')\n",
    "\n",
    "# Filtrar o DataFrame para incluir apenas os alunos que desistiram e têm até 20 anos de idade\n",
    "alunos_desistentes_ate_20 = tabela[(tabela['SITUDESC'] == 'DESIST/DEIXOU FREQUE') & (tabela['IDADE'] <= 20)]\n",
    "\n",
    "# Calcular o número de desistências por idade e sexo\n",
    "desistencias_por_idade_sexo = alunos_desistentes_ate_20.groupby(['IDADE', 'SEXOALUNO']).size().unstack().reset_index()\n",
    "\n",
    "# Configuração do Dash\n",
    "app = dash.Dash(__name__)\n",
    "\n",
    "# Layout do Dashboard\n",
    "app.layout = html.Div([\n",
    "    html.H1(\"Dashboard de Análise de Alunos - 2023\"),\n",
    "\n",
    "    # Gráfico: Distribuição de Idade dos Alunos\n",
    "    html.Div([\n",
    "        html.H2(\"Distribuição de Idade dos Alunos\"),\n",
    "        dcc.Graph(\n",
    "            id='histograma-idade',\n",
    "            figure=px.histogram(tabela, x='IDADE', nbins=20, title='Distribuição de Idade dos Alunos')\n",
    "        )\n",
    "    ]),\n",
    "\n",
    "    # Gráfico: Distribuição de Alunos por Sexo\n",
    "    html.Div([\n",
    "        html.H2(\"Distribuição de Alunos por Sexo\"),\n",
    "        dcc.Graph(\n",
    "            id='barra-sexo',\n",
    "            figure=px.bar(x=tabela['SEXOALUNO'].value_counts().index, y=tabela['SEXOALUNO'].value_counts().values,\n",
    "                          title='Distribuição de Alunos por Sexo', labels={'x': 'Sexo', 'y': 'Número de Alunos'})\n",
    "        )\n",
    "    ]),\n",
    "\n",
    "    # Gráfico: Distribuição de Alunos por Série\n",
    "    html.Div([\n",
    "        html.H2(\"Distribuição de Alunos por Série\"),\n",
    "        dcc.Graph(\n",
    "            id='barra-serie',\n",
    "            figure=px.bar(x=tabela['SERIE'].value_counts().sort_index().index,\n",
    "                          y=tabela['SERIE'].value_counts().sort_index().values,\n",
    "                          title='Distribuição de Alunos por Série', labels={'x': 'Série', 'y': 'Número de Alunos'})\n",
    "        )\n",
    "    ]),\n",
    "\n",
    "    # Gráfico: Desistências por Idade e Sexo (Até 20 anos)\n",
    "    html.Div([\n",
    "        html.H2(\"Desistências por Idade e Sexo (Até 20 anos)\"),\n",
    "        dcc.Graph(\n",
    "            id='barra-desistencias-idade-sexo',\n",
    "            figure=px.bar(desistencias_por_idade_sexo, x='IDADE', y=[col for col in desistencias_por_idade_sexo.columns if col != 'IDADE'],\n",
    "                          title='Desistências por Idade e Sexo (Até 20 anos)', labels={'IDADE': 'Idade', 'value': 'Número de Desistências', 'variable': 'Sexo'},\n",
    "                          barmode='group')\n",
    "        )\n",
    "    ]),\n",
    "\n",
    "])\n",
    "\n",
    "if __name__ == '__main__':\n",
    "    app.run_server(debug=True, port=8051)\n"
   ]
  }
 ],
 "metadata": {
  "kernelspec": {
   "display_name": "Python 3",
   "language": "python",
   "name": "python3"
  },
  "language_info": {
   "codemirror_mode": {
    "name": "ipython",
    "version": 3
   },
   "file_extension": ".py",
   "mimetype": "text/x-python",
   "name": "python",
   "nbconvert_exporter": "python",
   "pygments_lexer": "ipython3",
   "version": "3.12.4"
  }
 },
 "nbformat": 4,
 "nbformat_minor": 2
}
